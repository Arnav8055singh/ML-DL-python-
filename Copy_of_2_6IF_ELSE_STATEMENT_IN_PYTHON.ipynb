{
  "nbformat": 4,
  "nbformat_minor": 0,
  "metadata": {
    "colab": {
      "provenance": [],
      "authorship_tag": "ABX9TyNImk22U8H9zDgsIMqTxAb4",
      "include_colab_link": true
    },
    "kernelspec": {
      "name": "python3",
      "display_name": "Python 3"
    },
    "language_info": {
      "name": "python"
    }
  },
  "cells": [
    {
      "cell_type": "markdown",
      "metadata": {
        "id": "view-in-github",
        "colab_type": "text"
      },
      "source": [
        "<a href=\"https://colab.research.google.com/github/Arnav8055singh/ML-DL-python-/blob/main/Copy_of_2_6IF_ELSE_STATEMENT_IN_PYTHON.ipynb\" target=\"_parent\"><img src=\"https://colab.research.google.com/assets/colab-badge.svg\" alt=\"Open In Colab\"/></a>"
      ]
    },
    {
      "cell_type": "markdown",
      "source": [
        "SIMPLE IF ELSE STATEMENT"
      ],
      "metadata": {
        "id": "OQWRKhJKg8LV"
      }
    },
    {
      "cell_type": "code",
      "execution_count": null,
      "metadata": {
        "colab": {
          "base_uri": "https://localhost:8080/"
        },
        "id": "XjKeemVhg6-2",
        "outputId": "d007a31a-82c1-4fbf-9789-c1044da7e923"
      },
      "outputs": [
        {
          "output_type": "stream",
          "name": "stdout",
          "text": [
            "b is the greatest number\n"
          ]
        }
      ],
      "source": [
        "a = 30\n",
        "b = 50\n",
        "\n",
        "if (a>b):\n",
        "  print('a is greater than b')\n",
        "else:\n",
        "    print('b is the greatest number')"
      ]
    },
    {
      "cell_type": "code",
      "source": [
        "a = int(input('Enter the first number'))\n",
        "b = int(input('Enter the second number'))\n",
        "\n",
        "if (a>b):\n",
        "  print('First number is the greatest')\n",
        "else:\n",
        "    print('Second Number is the greatest')"
      ],
      "metadata": {
        "colab": {
          "base_uri": "https://localhost:8080/"
        },
        "id": "1Ba8pp4nhiKN",
        "outputId": "82b98b68-d9c6-4eb5-e810-f5ca18733da9"
      },
      "execution_count": null,
      "outputs": [
        {
          "output_type": "stream",
          "name": "stdout",
          "text": [
            "Enter the first number269\n",
            "Enter the second number962\n",
            "Second Number is the greatest\n"
          ]
        }
      ]
    },
    {
      "cell_type": "markdown",
      "source": [
        "if elif else statement"
      ],
      "metadata": {
        "id": "luDCCa4UiSkn"
      }
    },
    {
      "cell_type": "code",
      "source": [
        "a = 15\n",
        "b = 25\n",
        "c = 30\n",
        "\n",
        "if (a>b>c):\n",
        " print('a is the greatest number')\n",
        "elif (a<b>c):\n",
        " print('b is the greatest number')\n",
        "else:\n",
        "  print('c is the greatest number')"
      ],
      "metadata": {
        "colab": {
          "base_uri": "https://localhost:8080/"
        },
        "id": "Xqj0mMWaiVrb",
        "outputId": "34b9687e-45ef-4a59-e564-a12540250998"
      },
      "execution_count": null,
      "outputs": [
        {
          "output_type": "stream",
          "name": "stdout",
          "text": [
            "c is the greatest number\n"
          ]
        }
      ]
    },
    {
      "cell_type": "markdown",
      "source": [
        "nested if condition"
      ],
      "metadata": {
        "id": "2bu28s7sjwJC"
      }
    },
    {
      "cell_type": "code",
      "source": [
        "a = 20\n",
        "b = 40\n",
        "c = 60\n",
        "\n",
        "if(a>b):\n",
        "  if(a>c):\n",
        "    print('a is the greatest number ')\n",
        "  else:\n",
        "      print('c is the greatest number')\n",
        "else:\n",
        "          if(b>c):\n",
        "             print('b is the greatest number')\n",
        "else:\n",
        "print('c is the greatest number')"
      ],
      "metadata": {
        "id": "o9gXD0SQjzcu"
      },
      "execution_count": null,
      "outputs": []
    }
  ]
}