{
  "nbformat": 4,
  "nbformat_minor": 0,
  "metadata": {
    "colab": {
      "provenance": [],
      "authorship_tag": "ABX9TyO1h+LE5eAONsDc9qZHwwBM",
      "include_colab_link": true
    },
    "kernelspec": {
      "name": "python3",
      "display_name": "Python 3"
    },
    "language_info": {
      "name": "python"
    }
  },
  "cells": [
    {
      "cell_type": "markdown",
      "metadata": {
        "id": "view-in-github",
        "colab_type": "text"
      },
      "source": [
        "<a href=\"https://colab.research.google.com/github/Arnav8055singh/ML-DL-python-/blob/main/Copy_of_2_7Loops_in_Python.ipynb\" target=\"_parent\"><img src=\"https://colab.research.google.com/assets/colab-badge.svg\" alt=\"Open In Colab\"/></a>"
      ]
    },
    {
      "cell_type": "markdown",
      "source": [
        "FOR LOOP"
      ],
      "metadata": {
        "id": "Bqrj-mUoyg_v"
      }
    },
    {
      "cell_type": "code",
      "execution_count": null,
      "metadata": {
        "colab": {
          "base_uri": "https://localhost:8080/"
        },
        "id": "zeSSOdJVyVWL",
        "outputId": "c6c6e449-e798-47ff-b19c-0d5ab73b25b5"
      },
      "outputs": [
        {
          "name": "stdout",
          "output_type": "stream",
          "text": [
            "Enter the price of the laptop :20000\n",
            "Enter the price of the laptop :30000\n",
            "Enter the price of the laptop :40000\n",
            "Enter the price of the laptop :50000\n",
            "Enter the price of the laptop :60000\n"
          ]
        }
      ],
      "source": [
        "laptop1 = int(input(\"Enter the price of the laptop :\"))\n",
        "laptop2 = int(input(\"Enter the price of the laptop :\"))\n",
        "laptop3 = int(input(\"Enter the price of the laptop :\"))\n",
        "laptop4 = int(input(\"Enter the price of the laptop :\"))\n",
        "laptop5 = int(input(\"Enter the price of the laptop :\"))\n"
      ]
    },
    {
      "cell_type": "code",
      "source": [
        "for i in range(5):  #0,1,2,3,4\n",
        "  laptop_price = int(input(\"Enter the price of the laptop:  \"))"
      ],
      "metadata": {
        "colab": {
          "base_uri": "https://localhost:8080/"
        },
        "id": "ifzpNFqkzJFC",
        "outputId": "510d9a31-77a1-4dc7-c126-fd57c371bb30"
      },
      "execution_count": null,
      "outputs": [
        {
          "name": "stdout",
          "output_type": "stream",
          "text": [
            "Enter the price of the laptop:  20000\n",
            "Enter the price of the laptop:  40000\n",
            "Enter the price of the laptop:  60000\n",
            "Enter the price of the laptop:  80000\n",
            "Enter the price of the laptop:  100000\n"
          ]
        }
      ]
    },
    {
      "cell_type": "code",
      "source": [
        "numbers = [50, 100, 150, 200]\n",
        "\n",
        "print(numbers[0])\n",
        "print(numbers[1])\n",
        "print(numbers[2])\n",
        "print(numbers[3])"
      ],
      "metadata": {
        "colab": {
          "base_uri": "https://localhost:8080/"
        },
        "id": "kIJ_2Wa10Dx-",
        "outputId": "f91465ed-583d-4c0c-cb23-91bfff1ce08d"
      },
      "execution_count": null,
      "outputs": [
        {
          "output_type": "stream",
          "name": "stdout",
          "text": [
            "50\n",
            "100\n",
            "150\n",
            "200\n"
          ]
        }
      ]
    },
    {
      "cell_type": "code",
      "source": [
        "numbers = [50, 100, 150, 200]\n",
        "\n",
        "for i in numbers:\n",
        "  print(i)"
      ],
      "metadata": {
        "colab": {
          "base_uri": "https://localhost:8080/"
        },
        "id": "shM8EgkP0Vls",
        "outputId": "cfa34984-c820-4aab-da81-565bc9cf78c8"
      },
      "execution_count": null,
      "outputs": [
        {
          "output_type": "stream",
          "name": "stdout",
          "text": [
            "50\n",
            "100\n",
            "150\n",
            "200\n"
          ]
        }
      ]
    },
    {
      "cell_type": "markdown",
      "source": [
        "WHILE LOOP"
      ],
      "metadata": {
        "id": "I2bnp4pQ0pmp"
      }
    },
    {
      "cell_type": "code",
      "source": [
        "i = 0\n",
        "\n",
        "while i<10:\n",
        "  print(i)\n",
        "  i+=1\n",
        "\n"
      ],
      "metadata": {
        "colab": {
          "base_uri": "https://localhost:8080/"
        },
        "id": "mcqjbl7t0rL7",
        "outputId": "d30c4c93-779d-4cfd-e1f0-ed23503644eb"
      },
      "execution_count": null,
      "outputs": [
        {
          "output_type": "stream",
          "name": "stdout",
          "text": [
            "0\n",
            "1\n",
            "2\n",
            "3\n",
            "4\n",
            "5\n",
            "6\n",
            "7\n",
            "8\n",
            "9\n"
          ]
        }
      ]
    }
  ]
}