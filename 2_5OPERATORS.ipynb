{
  "nbformat": 4,
  "nbformat_minor": 0,
  "metadata": {
    "colab": {
      "provenance": [],
      "authorship_tag": "ABX9TyNuKxFNng3jL6LEGM+UcP6m",
      "include_colab_link": true
    },
    "kernelspec": {
      "name": "python3",
      "display_name": "Python 3"
    },
    "language_info": {
      "name": "python"
    }
  },
  "cells": [
    {
      "cell_type": "markdown",
      "metadata": {
        "id": "view-in-github",
        "colab_type": "text"
      },
      "source": [
        "<a href=\"https://colab.research.google.com/github/Arnav8055singh/ML-DL-python-/blob/main/2_5OPERATORS.ipynb\" target=\"_parent\"><img src=\"https://colab.research.google.com/assets/colab-badge.svg\" alt=\"Open In Colab\"/></a>"
      ]
    },
    {
      "cell_type": "markdown",
      "source": [
        "OPERATORS IN PYTHON:\n",
        "\n",
        "1.Arithmetic Operator\n",
        "2.Assignment Operator\n",
        "3.Comaprison Operator\n",
        "4.Logical Operator\n",
        "5.Identity Operator\n",
        "6.Membership Operator\n"
      ],
      "metadata": {
        "id": "ki4jJDPGYgSr"
      }
    },
    {
      "cell_type": "markdown",
      "source": [
        "1.ARITHMETIC OPERATORS"
      ],
      "metadata": {
        "id": "yG9Wrt-cY1PK"
      }
    },
    {
      "cell_type": "code",
      "execution_count": 2,
      "metadata": {
        "colab": {
          "base_uri": "https://localhost:8080/"
        },
        "id": "EV3EsWQ4YeI6",
        "outputId": "2e28b56b-5f87-4420-cb07-7ba94922892a"
      },
      "outputs": [
        {
          "output_type": "stream",
          "name": "stdout",
          "text": [
            "sum = 30\n",
            "diff = 10\n",
            "multiplication = 200\n",
            "div = 2.0\n",
            "exp =  10240000000000\n",
            "Remainder =  0\n"
          ]
        }
      ],
      "source": [
        "num_1=20\n",
        "num_2=10\n",
        "\n",
        "#addition\n",
        "sum = num_1 + num_2\n",
        "print('sum =',sum)\n",
        "\n",
        "#subtraction\n",
        "diff = num_1 - num_2\n",
        "print('diff =',diff)\n",
        "\n",
        "#multiplication\n",
        "mul = num_1 * num_2\n",
        "print('multiplication =',mul)\n",
        "\n",
        "#division\n",
        "div = num_1 / num_2\n",
        "print('div =',div)\n",
        "\n",
        "#exponent\n",
        "exp = num_1 ** num_2 #20^10\n",
        "print('exp = ',exp)\n",
        "\n",
        "#modulus\n",
        "mod = num_1 % num_2\n",
        "print('Remainder = ',mod)\n",
        "\n",
        "\n"
      ]
    },
    {
      "cell_type": "markdown",
      "source": [
        "2.ASSIGNMENT OPERATOR\n",
        "\n"
      ],
      "metadata": {
        "id": "wo25oqdAaW1x"
      }
    },
    {
      "cell_type": "markdown",
      "source": [
        "+=                      \n",
        "-=\n",
        "*=\n",
        "**=\n",
        "/=\n",
        "%="
      ],
      "metadata": {
        "id": "iN6UCKRba9e2"
      }
    },
    {
      "cell_type": "code",
      "source": [
        "a = 5\n",
        "print(a)"
      ],
      "metadata": {
        "colab": {
          "base_uri": "https://localhost:8080/"
        },
        "id": "BKXjCMnsaZ6Y",
        "outputId": "bbab1301-6914-4792-f821-94c6091f2e47"
      },
      "execution_count": 3,
      "outputs": [
        {
          "output_type": "stream",
          "name": "stdout",
          "text": [
            "5\n"
          ]
        }
      ]
    },
    {
      "cell_type": "code",
      "source": [
        "a = 5\n",
        "a += 5 #a = a+5\n",
        "print(a)"
      ],
      "metadata": {
        "colab": {
          "base_uri": "https://localhost:8080/"
        },
        "id": "jqkyJQodagwg",
        "outputId": "4cbe3f31-ce19-4117-bc90-e0eeadb8c5bd"
      },
      "execution_count": 4,
      "outputs": [
        {
          "output_type": "stream",
          "name": "stdout",
          "text": [
            "10\n"
          ]
        }
      ]
    },
    {
      "cell_type": "code",
      "source": [
        "b= 5\n",
        "b -=2 #b = b-2\n",
        "print(b)"
      ],
      "metadata": {
        "colab": {
          "base_uri": "https://localhost:8080/"
        },
        "id": "c0PxaltQar5h",
        "outputId": "2da66e5b-1ce2-4f3c-d376-771503f5de7b"
      },
      "execution_count": 5,
      "outputs": [
        {
          "output_type": "stream",
          "name": "stdout",
          "text": [
            "3\n"
          ]
        }
      ]
    },
    {
      "cell_type": "markdown",
      "source": [
        "3.COMPARISON OPERTORS"
      ],
      "metadata": {
        "id": "bK1ZwWpibQaC"
      }
    },
    {
      "cell_type": "code",
      "source": [
        "a = 5\n",
        "b = 10\n",
        "\n",
        "print(a==b)   #equal to\n",
        "print(a != b)  #equal to\n",
        "print(a < b)\n",
        "print(a > b)\n",
        "print(a <= b)\n",
        "print(a >= b)"
      ],
      "metadata": {
        "colab": {
          "base_uri": "https://localhost:8080/"
        },
        "id": "hlK06RbDbU86",
        "outputId": "31b7d3a4-833b-4f01-db39-8742ef042a9d"
      },
      "execution_count": 7,
      "outputs": [
        {
          "output_type": "stream",
          "name": "stdout",
          "text": [
            "False\n",
            "True\n",
            "True\n",
            "False\n",
            "True\n",
            "False\n"
          ]
        }
      ]
    },
    {
      "cell_type": "markdown",
      "source": [
        "4.LOGICAL OPERATORS (AND OR NOT)"
      ],
      "metadata": {
        "id": "1ceRIwvDfOsu"
      }
    },
    {
      "cell_type": "code",
      "source": [
        "a = 10\n",
        "\n",
        "print(a>20 and a>5)\n",
        "print(a>20 or a>5)\n",
        "print(not(a>8 and a>>5))\n"
      ],
      "metadata": {
        "colab": {
          "base_uri": "https://localhost:8080/"
        },
        "id": "bmLSGA7ZfS6d",
        "outputId": "12d77561-5d8e-4d4c-dd39-c88d2dcb036c"
      },
      "execution_count": 9,
      "outputs": [
        {
          "output_type": "stream",
          "name": "stdout",
          "text": [
            "False\n",
            "True\n",
            "True\n"
          ]
        }
      ]
    },
    {
      "cell_type": "markdown",
      "source": [
        "5.IDENTITY OPERATOR\n",
        "IS\n",
        "IS NOT\n"
      ],
      "metadata": {
        "id": "ks5mHcIKfyai"
      }
    },
    {
      "cell_type": "code",
      "source": [
        "x= 5\n",
        "y= 5\n",
        "\n",
        "print(x is y)\n"
      ],
      "metadata": {
        "colab": {
          "base_uri": "https://localhost:8080/"
        },
        "id": "xFCU4fbgf3Fq",
        "outputId": "4c5c6f1d-9ac2-4e49-91e1-90ef8b5bf718"
      },
      "execution_count": 10,
      "outputs": [
        {
          "output_type": "stream",
          "name": "stdout",
          "text": [
            "True\n"
          ]
        }
      ]
    },
    {
      "cell_type": "code",
      "source": [
        "x= 10\n",
        "y= 5\n",
        "\n",
        "print(x is  y)\n"
      ],
      "metadata": {
        "colab": {
          "base_uri": "https://localhost:8080/"
        },
        "id": "bUyb3FxFgAL2",
        "outputId": "d3233e98-7656-4f3e-cbcb-d52dd99d605e"
      },
      "execution_count": 15,
      "outputs": [
        {
          "output_type": "stream",
          "name": "stdout",
          "text": [
            "False\n"
          ]
        }
      ]
    },
    {
      "cell_type": "code",
      "source": [
        "x =  10\n",
        "y = 5\n",
        "\n",
        "print(x is not y)"
      ],
      "metadata": {
        "colab": {
          "base_uri": "https://localhost:8080/"
        },
        "id": "YjxAk2ghgKET",
        "outputId": "e484ecc2-b25b-4074-c37e-d45631b8a9d2"
      },
      "execution_count": 14,
      "outputs": [
        {
          "output_type": "stream",
          "name": "stdout",
          "text": [
            "True\n"
          ]
        }
      ]
    },
    {
      "cell_type": "markdown",
      "source": [
        "6.MEMBERSHIP OPERTORS\n",
        "IN\n",
        "NOT IN"
      ],
      "metadata": {
        "id": "6vUOSUu-gSkX"
      }
    },
    {
      "cell_type": "code",
      "source": [
        "a=5\n",
        "b=10\n",
        "\n",
        "c=[1,2,3,4,5]\n",
        "print(a in c )\n",
        "print(b in c)\n",
        "print( b not in c)"
      ],
      "metadata": {
        "colab": {
          "base_uri": "https://localhost:8080/"
        },
        "id": "VZUOd1-jgZCZ",
        "outputId": "ebe74d9f-fbab-47ec-9e89-0cb1e2bc1c52"
      },
      "execution_count": 18,
      "outputs": [
        {
          "output_type": "stream",
          "name": "stdout",
          "text": [
            "True\n",
            "False\n",
            "True\n"
          ]
        }
      ]
    }
  ]
}