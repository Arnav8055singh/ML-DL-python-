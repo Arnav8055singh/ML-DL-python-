{
  "nbformat": 4,
  "nbformat_minor": 0,
  "metadata": {
    "colab": {
      "provenance": [],
      "authorship_tag": "ABX9TyOTuzwuWSu+QoBoq34V0BMY",
      "include_colab_link": true
    },
    "kernelspec": {
      "name": "python3",
      "display_name": "Python 3"
    },
    "language_info": {
      "name": "python"
    }
  },
  "cells": [
    {
      "cell_type": "markdown",
      "metadata": {
        "id": "view-in-github",
        "colab_type": "text"
      },
      "source": [
        "<a href=\"https://colab.research.google.com/github/Arnav8055singh/ML-DL-python-/blob/main/2_8_Functions_in_Python.ipynb\" target=\"_parent\"><img src=\"https://colab.research.google.com/assets/colab-badge.svg\" alt=\"Open In Colab\"/></a>"
      ]
    },
    {
      "cell_type": "markdown",
      "source": [
        "Functions:\n",
        "Function is a block of code that can be reused in a program\n",
        "\n",
        "FACTORIAL OF A NUMBER\n",
        "\n",
        "Factorial of a number is the product of all the positive integers less than or equal to the given number"
      ],
      "metadata": {
        "id": "c7Rr2zDYxiUK"
      }
    },
    {
      "cell_type": "markdown",
      "source": [
        "Factorial of 5 = 5 x 4 x 3 x 2 x 1 = 120"
      ],
      "metadata": {
        "id": "HzUjf7mzyKR5"
      }
    },
    {
      "cell_type": "code",
      "execution_count": 16,
      "metadata": {
        "colab": {
          "base_uri": "https://localhost:8080/"
        },
        "id": "ONubw1BUxcjV",
        "outputId": "a914877a-0b23-4dee-fb12-4769af9ffb32"
      },
      "outputs": [
        {
          "output_type": "stream",
          "name": "stdout",
          "text": [
            "Enter a number to find its factorial :4\n",
            "The factorial of the number is  4 is 24\n"
          ]
        }
      ],
      "source": [
        "number = int(input(\"Enter a number to find its factorial :\"))\n",
        "\n",
        "factorial = 1\n",
        "\n",
        "if number == 0:\n",
        "  print('The factorial of 0 is 1')\n",
        "\n",
        "else:\n",
        "    for i in range(1,number+1):   # range (1, 6)  --> 1,2,3,4,5\n",
        "      factorial = factorial*i\n",
        "print('The factorial of the number is ',number,'is' ,factorial)"
      ]
    },
    {
      "cell_type": "markdown",
      "source": [
        "Factorial Function"
      ],
      "metadata": {
        "id": "8psPOTAf0vUJ"
      }
    },
    {
      "cell_type": "code",
      "source": [
        "def factorial_value(num):\n",
        "  factorial = 1\n",
        "\n",
        "  if num == 0:\n",
        "    return factorial\n",
        "\n",
        "  else:\n",
        "    for i in range(1, num+1):\n",
        "      factorial = factorial*i\n",
        "\n",
        "    return factorial\n",
        "\n"
      ],
      "metadata": {
        "id": "iGxq5SH-0xrd"
      },
      "execution_count": 36,
      "outputs": []
    },
    {
      "cell_type": "code",
      "source": [
        "print(factorial_value(5))"
      ],
      "metadata": {
        "colab": {
          "base_uri": "https://localhost:8080/"
        },
        "id": "EVTCEWAI29hM",
        "outputId": "21f2bbb8-e8b7-4b4d-fdb8-84a18f20cdb5"
      },
      "execution_count": 38,
      "outputs": [
        {
          "output_type": "stream",
          "name": "stdout",
          "text": [
            "120\n"
          ]
        }
      ]
    },
    {
      "cell_type": "code",
      "source": [
        "print(factorial_value(20))"
      ],
      "metadata": {
        "colab": {
          "base_uri": "https://localhost:8080/"
        },
        "id": "9KB8ikP64fY9",
        "outputId": "eab65dd8-b5e2-4b37-e9e2-1fa3801cfe27"
      },
      "execution_count": 39,
      "outputs": [
        {
          "output_type": "stream",
          "name": "stdout",
          "text": [
            "2432902008176640000\n"
          ]
        }
      ]
    }
  ]
}